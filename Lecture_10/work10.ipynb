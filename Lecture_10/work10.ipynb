{
 "cells": [
  {
   "cell_type": "code",
   "execution_count": null,
   "id": "cb15c5c6-7c73-4697-b022-b80301dc35e4",
   "metadata": {},
   "outputs": [],
   "source": [
    "\"\"\"\n",
    "    s = mybasel(N)\n",
    "\n",
    "Calculate finite Basel sum\n",
    "\"\"\"\n",
    "function mybasel(N)\n",
    "    s = 0.0\n",
    "    for n = 1:N\n",
    "        s += 1/n^2\n",
    "    end\n",
    "    return s\n",
    "end"
   ]
  },
  {
   "cell_type": "code",
   "execution_count": null,
   "id": "4e0ab793-0f41-403a-b153-046015b65613",
   "metadata": {},
   "outputs": [],
   "source": [
    "round(abs(mybasel(2000) - pi^2/6), sigdigits=1)"
   ]
  },
  {
   "cell_type": "code",
   "execution_count": null,
   "id": "28c68943-d071-4e1f-87e9-2b5b37dba6b5",
   "metadata": {},
   "outputs": [],
   "source": [
    "\n",
    "function myrichardson(N)\n",
    "    s1 = mybasel(N) \n",
    "    s2 = mybasel(2*N)\n",
    "    return 2*s2 - s1\n",
    "end"
   ]
  },
  {
   "cell_type": "code",
   "execution_count": null,
   "id": "ac7a3b73-a497-4c19-9736-fce57a157df7",
   "metadata": {},
   "outputs": [],
   "source": [
    "\n",
    "round(abs(myrichardson(1000) - pi^2/6), sigdigits=1)"
   ]
  },
  {
   "cell_type": "code",
   "execution_count": null,
   "id": "c23e4bbb-b894-4ac8-905f-8726036f51bc",
   "metadata": {},
   "outputs": [],
   "source": [
    "\n",
    "round(abs(mybasel(5000000) - pi^2/6), sigdigits=1)"
   ]
  },
  {
   "cell_type": "code",
   "execution_count": null,
   "id": "7555cfca-caf2-4927-84e8-4e2efe9d1f8b",
   "metadata": {},
   "outputs": [],
   "source": [
    "] add QuadGK"
   ]
  },
  {
   "cell_type": "code",
   "execution_count": null,
   "id": "fe7fa1d6-b0f5-4430-a290-4c2bea5dd12b",
   "metadata": {},
   "outputs": [],
   "source": [
    "\n",
    "using QuadGK"
   ]
  },
  {
   "cell_type": "code",
   "execution_count": null,
   "id": "2bb8be10-1b54-4165-acb6-c71dec70395f",
   "metadata": {},
   "outputs": [],
   "source": [
    "\n",
    "fun1(x) = 1/sqrt(x)"
   ]
  },
  {
   "cell_type": "code",
   "execution_count": null,
   "id": "b15f40f7-7b81-4ef5-b5e6-1f46aae077b5",
   "metadata": {},
   "outputs": [],
   "source": [
    "\n",
    "round(quadgk(fun1, 0.0, 1.0)[1], sigdigits=5)"
   ]
  },
  {
   "cell_type": "code",
   "execution_count": null,
   "id": "dd3a91ea-6cfc-410f-90a2-552aa1add05c",
   "metadata": {},
   "outputs": [],
   "source": [
    "\n",
    "fun2(x) = exp(-x) * log(x)"
   ]
  },
  {
   "cell_type": "code",
   "execution_count": null,
   "id": "2f686cff-c8a1-49ff-829d-a95e00033e1c",
   "metadata": {},
   "outputs": [],
   "source": [
    "\n",
    "quadgk(fun2, 0.0, Inf)"
   ]
  },
  {
   "cell_type": "code",
   "execution_count": null,
   "id": "21e22113-60cd-4e75-b140-6c7a8578f589",
   "metadata": {},
   "outputs": [],
   "source": [
    "\n",
    "# quadgk does the integral multiple times for error estimate"
   ]
  },
  {
   "cell_type": "code",
   "execution_count": null,
   "id": "263c8223-a58d-4ef3-9102-15a4b4243c2f",
   "metadata": {},
   "outputs": [],
   "source": []
  }
 ],
 "metadata": {
  "kernelspec": {
   "display_name": "Julia 1.11.6",
   "language": "julia",
   "name": "julia-1.11"
  },
  "language_info": {
   "file_extension": ".jl",
   "mimetype": "application/julia",
   "name": "julia",
   "version": "1.11.6"
  }
 },
 "nbformat": 4,
 "nbformat_minor": 5
}
